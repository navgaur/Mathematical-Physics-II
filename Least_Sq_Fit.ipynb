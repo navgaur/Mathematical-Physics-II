{
  "nbformat": 4,
  "nbformat_minor": 0,
  "metadata": {
    "colab": {
      "provenance": [],
      "authorship_tag": "ABX9TyOkxWe1+RUZbQmRMkW0JbOS",
      "include_colab_link": true
    },
    "kernelspec": {
      "name": "python3",
      "display_name": "Python 3"
    },
    "language_info": {
      "name": "python"
    }
  },
  "cells": [
    {
      "cell_type": "markdown",
      "metadata": {
        "id": "view-in-github",
        "colab_type": "text"
      },
      "source": [
        "<a href=\"https://colab.research.google.com/github/navgaur/Mathematical-Physics-II/blob/main/Least_Sq_Fit.ipynb\" target=\"_parent\"><img src=\"https://colab.research.google.com/assets/colab-badge.svg\" alt=\"Open In Colab\"/></a>"
      ]
    },
    {
      "cell_type": "markdown",
      "source": [
        "#**Least Square Fit**"
      ],
      "metadata": {
        "id": "hrma-qQjzBn3"
      }
    },
    {
      "cell_type": "markdown",
      "source": [
        "## **Linear Least Square fit**\n",
        "\n",
        "Fit the data points to\n",
        "$$ y = m x + b$$\n",
        "where\n",
        "\n",
        "* y : Dependent variable\n",
        "* x : Independent variable   \n",
        "* m : Slope of the line\n",
        "* b : y-intercept\n",
        "\n",
        "We minimize the sum of the squared differences:\n",
        "$$ S = \\sum_{i=1}^n \\left(y_i - (m x_i +b) \\right)^2 $$\n",
        "where $n$ is the number of data points and $(x_i,y_i)$ are the coordinates of each of the data point.\n",
        "\n",
        "Least Square method is to minimize $S$ on the variables $m,b$ on which fit is to be made:\n",
        "$$ \\frac{\\partial S}{\\partial m} = - 2 \\sum_{i=1}^n x_i \\left(y_i - (m x_i + b) \\right) = 0 $$\n",
        "$$ \\frac{\\partial S}{\\partial b} = - 2 \\sum_{i=1}^n \\left(y_i - (m x_i + b) \\right)$$\n",
        "We can solve the above two equations for $m$ and $b$.\n",
        "\n",
        "$$ m = \\frac{n \\left(\\sum_{i=1}^n x_i y_i \\right) - \\sum_{i=1}^n x_i  \\sum_{i=1}^n y_i}{n \\sum_{i=1}^n x_i^2 - \\left(\\sum_{i=1}^n x_i\\right)^2} $$\n",
        "\n",
        "$$ b = \\frac{\\sum_{i=1}^n y_i - m \\sum_{i=1}^n x_i}{n}\n",
        "$$"
      ],
      "metadata": {
        "id": "Mw9-btBRbU6r"
      }
    },
    {
      "cell_type": "code",
      "execution_count": null,
      "metadata": {
        "id": "fjhmkqaTt1rZ"
      },
      "outputs": [],
      "source": []
    }
  ]
}