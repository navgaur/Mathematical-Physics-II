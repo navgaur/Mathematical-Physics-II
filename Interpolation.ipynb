{
  "nbformat": 4,
  "nbformat_minor": 0,
  "metadata": {
    "colab": {
      "provenance": [],
      "authorship_tag": "ABX9TyO1cwzR2U7xtowyorlsfHnq",
      "include_colab_link": true
    },
    "kernelspec": {
      "name": "python3",
      "display_name": "Python 3"
    },
    "language_info": {
      "name": "python"
    }
  },
  "cells": [
    {
      "cell_type": "markdown",
      "metadata": {
        "id": "view-in-github",
        "colab_type": "text"
      },
      "source": [
        "<a href=\"https://colab.research.google.com/github/navgaur/Mathematical-Physics-II/blob/test1/Interpolation.ipynb\" target=\"_parent\"><img src=\"https://colab.research.google.com/assets/colab-badge.svg\" alt=\"Open In Colab\"/></a>"
      ]
    },
    {
      "cell_type": "markdown",
      "source": [
        "# **Unit - 4 : Interpolation**\n",
        "\n",
        "Concept of Interpolation, Lagrange form of interpolating polynomial, Error estimation, optimal points for interpolation.\n",
        "Recommended List of Programs :\n",
        " -  Write program to determine the unique polynomial of a degree n that agrees with a given set of (n+1) data points (xi,yi) and use this polynomial to find the value of y at a value of x not included in the data.\n",
        " - Generate a tabulated data containing a given number of values ($x_i$,  $f(x_i)$ ) of a function $f(x)$ and use it to interpolate at a value of x not used in table.\n",
        "\n",
        " ---"
      ],
      "metadata": {
        "id": "MH8d1ecuJfAG"
      }
    },
    {
      "cell_type": "markdown",
      "source": [
        "## **Lagrange form of interpolating polynomial**\n",
        "\n",
        "Consider the n-datapoints $(x_0,f(x_0)),(x_1,f(x_1)),...,(x_n,f(x_n))$. One can (interpolate) fit a polynomial of order $n$ to $(n+1)$ datapoints.\n",
        "\n",
        "Using Lagrange interpolation the polynomial fit is:\n",
        "$$ g(x) = \\sum_{i=0}^n L_i(x) f(x_i) $$\n",
        "with $L_i(x_j)$ is $0 (i \\ne j) $ and $1 (i = j)$.\n",
        "\n",
        "Method to construct $L_i(x)$:\n",
        " - polynomial of degree $n$\n",
        " - the polynomail has roots at $x_0, x_1, ...,x_{i-1},x_{i+1},..,x_n$\n",
        " - $V_i(x_i) = 1$\n",
        "\n",
        " The expression of $L_i(x)$ is:\n",
        " $$\n",
        " L_i(x) = \\frac{(x-x_0)(x-x_0)..(x-x_{i-1})(x-x_{i+1})..(x-x_n)}{(x_i-x_0)(x_i-x_0)..(x_i-x_{i-1})(x_i-x_{i+1})..(x_i-x_n)}\n",
        " $$\n"
      ],
      "metadata": {
        "id": "ReK6YzfeJ037"
      }
    }
  ]
}