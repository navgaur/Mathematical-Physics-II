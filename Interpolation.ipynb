{
  "nbformat": 4,
  "nbformat_minor": 0,
  "metadata": {
    "colab": {
      "provenance": [],
      "authorship_tag": "ABX9TyOGSXP5virbhK/zb+RLHc6J",
      "include_colab_link": true
    },
    "kernelspec": {
      "name": "python3",
      "display_name": "Python 3"
    },
    "language_info": {
      "name": "python"
    }
  },
  "cells": [
    {
      "cell_type": "markdown",
      "metadata": {
        "id": "view-in-github",
        "colab_type": "text"
      },
      "source": [
        "<a href=\"https://colab.research.google.com/github/navgaur/Mathematical-Physics-II/blob/test1/Interpolation.ipynb\" target=\"_parent\"><img src=\"https://colab.research.google.com/assets/colab-badge.svg\" alt=\"Open In Colab\"/></a>"
      ]
    },
    {
      "cell_type": "code",
      "execution_count": null,
      "metadata": {
        "id": "zNYxLau3JYC2"
      },
      "outputs": [],
      "source": []
    },
    {
      "cell_type": "markdown",
      "source": [
        "# **Unit - 4 : Interpolation**\n",
        "\n",
        "Concept of Interpolation, Lagrange form of interpolating polynomial, Error estimation, optimal points for interpolation.\n",
        "Recommended List of Programs :\n",
        " -  Write program to determine the unique polynomial of a degree n that agrees with a given set of (n+1) data points (xi,yi) and use this polynomial to find the value of y at a value of x not included in the data.\n",
        " - Generate a tabulated data containing a given number of values ($x_i$,  $f(x_i)$ ) of a function $f(x)$ and use it to interpolate at a value of x not used in table.\n",
        "\n",
        " ---"
      ],
      "metadata": {
        "id": "MH8d1ecuJfAG"
      }
    },
    {
      "cell_type": "markdown",
      "source": [
        "## **Lagrange form of interpolating polynomial**\n"
      ],
      "metadata": {
        "id": "ReK6YzfeJ037"
      }
    }
  ]
}