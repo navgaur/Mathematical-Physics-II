{
  "nbformat": 4,
  "nbformat_minor": 0,
  "metadata": {
    "colab": {
      "provenance": [],
      "authorship_tag": "ABX9TyMWN60h+OPCGuoT+8W44yWd",
      "include_colab_link": true
    },
    "kernelspec": {
      "name": "python3",
      "display_name": "Python 3"
    },
    "language_info": {
      "name": "python"
    }
  },
  "cells": [
    {
      "cell_type": "markdown",
      "metadata": {
        "id": "view-in-github",
        "colab_type": "text"
      },
      "source": [
        "<a href=\"https://colab.research.google.com/github/navgaur/Mathematical-Physics-II/blob/main/Roots_1.ipynb\" target=\"_parent\"><img src=\"https://colab.research.google.com/assets/colab-badge.svg\" alt=\"Open In Colab\"/></a>"
      ]
    },
    {
      "cell_type": "markdown",
      "source": [
        "# **Root Finding**\n"
      ],
      "metadata": {
        "id": "rTuEY9UJCI7m"
      }
    },
    {
      "cell_type": "markdown",
      "source": [
        "## **Bisection Method**\n",
        "\n",
        "This is the simplest *iterative method* to find the root of a real function. The steps required for the method are:\n",
        "\n",
        "1. **Initial setup**: Chose a initial interval $[a,b]$ such the the function $f(x)$ have opposite signs at the end points $a$ and $b$ *i.e.* $f(a).f(b) < 0$.    \n",
        "2. **Iteration**: <br>\n",
        "-  Calculate the mid point of the interval $c = \\frac{a+b}{2}$\n",
        "-  Calculate $f(c)$:\n",
        "  - If $f(c) = 0$, $c$ is the desired root.\n",
        "  - If the sign of $f(c)$ is same as that of $f(a)$, then $a = c$.   \n",
        "  - If the sign of $f(c)$ is same as that of $f(b)$, then $b = c$.\n",
        "3. **Convergence** : Repeat the iterations until any of the following conditions are met:\n",
        "-  $|b - a| < tol$, where $tol$ is the accuracy/tolerance of the root.\n",
        "-  $f(c) \\approx 0$\n",
        "-  Maximum number of iteractions are reached\n"
      ],
      "metadata": {
        "id": "kc8BxohJCUjB"
      }
    },
    {
      "cell_type": "code",
      "execution_count": null,
      "metadata": {
        "colab": {
          "base_uri": "https://localhost:8080/"
        },
        "id": "PzPc1FCM9kYF",
        "outputId": "7d9cebb3-e02c-4567-fd76-23ffbc723121"
      },
      "outputs": [
        {
          "output_type": "stream",
          "name": "stdout",
          "text": [
            "Root is : 3.1622314453125\n",
            "Number of iterations done:  13\n"
          ]
        }
      ],
      "source": [
        "# Bisection Method\n",
        "#   func  : The function for which the root is required\n",
        "#   [a,b] : The range between which root exists\n",
        "#   tol   : THe accuracy of the root\n",
        "\n",
        "def bisec(func, a, b, tol):\n",
        "  i = 0\n",
        "  niter = 50\n",
        "  while i < niter:\n",
        "    c = (a+b)/2\n",
        "    if func(c) == 0 or (b-a)/2 < tol:\n",
        "      return c, i\n",
        "    if func(c)*func(a) > 0:\n",
        "      a = c\n",
        "    else:\n",
        "      b = c\n",
        "    i=i+1\n",
        "  return c,i\n",
        "\n",
        "# Definition of the function\n",
        "def ff(x):\n",
        "  return x**2 - 10\n",
        "\n",
        "res,niter=bisec(ff,0,10,0.001)\n",
        "print(\"Root is :\", res)\n",
        "print(\"Number of iterations done: \", niter)"
      ]
    },
    {
      "cell_type": "markdown",
      "source": [
        "***"
      ],
      "metadata": {
        "id": "zqb8wBKNMmbc"
      }
    },
    {
      "cell_type": "markdown",
      "source": [
        "## **Newton Raphson Method**\n",
        "\n",
        "1. **Initial guess**: Make a initial guess $x_0$\n",
        "2. **Iteration**: Use the formula:\n",
        "  $$x_{n+1} = x_n - \\frac{f(x_n)}{f'(x_n)} $$\n",
        "  with\n",
        "  - $x_n$ root for the nth iteration. $f(x_n)$ value of the function at $x_n$. $f'(x_n)$ is the derivative of the function at $x_n$.\n",
        "  - $x_{n+1}$ is the root after next iteration. $f(x_{n+1})$ value of the function at $x_{n+1}$.\n",
        "3. Repeat the iterations till\n",
        "  - Reached required number of iterations\n",
        "  - Reached to a value of root upto desired accuracy / tolerance"
      ],
      "metadata": {
        "id": "lZRNfwEXMqwQ"
      }
    },
    {
      "cell_type": "code",
      "source": [
        "# Newton Raphson Method\n",
        "#  func : definition of the function whose roots are required\n",
        "#  x0   : starting approximation of the root\n",
        "#  tol  : tolerance/accurary of the root\n",
        "\n",
        "def newton_raphson(func, x0, tol):\n",
        "  i, max_iter = 0, 50\n",
        "  while i < max_iter:\n",
        "    xnew = x0 - func(x0)/derifunc(x0)\n",
        "    diffx = abs(xnew - x0)\n",
        "    x0 = xnew\n",
        "    if func(x0) == 0 or diffx < tol:\n",
        "      return x0, i\n",
        "    i = i+1\n",
        "  return x0, i\n",
        "\n",
        "def func(x):\n",
        "  return x*x - 10\n",
        "\n",
        "def derifunc(x):\n",
        "  return 2*x\n",
        "\n",
        "res, niter = newton_raphson(func,10,0.001)\n",
        "\n",
        "print(\"Root is :\", res)\n",
        "print(\"Number of iterations done: \", niter)"
      ],
      "metadata": {
        "id": "_YP_Flt61jLK",
        "outputId": "e8aa9e48-895d-45c0-d42d-8c91f9f60179",
        "colab": {
          "base_uri": "https://localhost:8080/"
        }
      },
      "execution_count": null,
      "outputs": [
        {
          "output_type": "stream",
          "name": "stdout",
          "text": [
            "Root is : 3.162277665175675\n",
            "Number of iterations done:  4\n"
          ]
        }
      ]
    },
    {
      "cell_type": "markdown",
      "source": [
        "## **Secant Method**\n",
        "\n",
        "This method of root finding requires two initial guesses but unlike the *bisection method* this does not require the initial guesses to be bracket the root (the root to be inside the initial guess).\n",
        "\n",
        "1. **Initial guess**: Make a initial guess $x_0$ and $x_1$\n",
        "2. **Iteration**: Use the formula:\n",
        "  $$x_{n+1} = x_n - \\frac{f(x_n) \\times (x_n - x_{n-1})}{f(x_n) - f(x_{n-1})} $$\n",
        "  with\n",
        "  - $x_n$ root for the nth iteration. $f(x_n)$ value of the function at $x_n$.\n",
        "  - $x_{n+1}$ is the root after next iteration. $f(x_{n+1})$ value of the function at $x_{n+1}$.\n",
        "3. Repeat the iterations till\n",
        "  - Reached required number of iterations\n",
        "  - Reached to a value of root upto desired accuracy / tolerance"
      ],
      "metadata": {
        "id": "_tGEiUJCYRdG"
      }
    },
    {
      "cell_type": "code",
      "source": [
        "def secant_method(func, x0, x1, tol):\n",
        "  niter = 100\n",
        "  for i in range(niter):\n",
        "    x2 = x1 - func(x1)*(x1 - x0)/(func(x1) - func(x0))\n",
        "\n",
        "    diffx = x2 - x1\n",
        "    if abs(diffx) < tol:\n",
        "      return x2, i\n",
        "    x0, x1 = x1, x2\n",
        "\n",
        "def func(x):\n",
        "  return x**2 - 10\n",
        "\n",
        "res,iter = secant_method(func, 10, 1, 0.001)\n",
        "print(\"Root is :\", res)\n",
        "print(\"Number of iterations done: \", iter)\n"
      ],
      "metadata": {
        "id": "i9eNXV5-ZS5u",
        "outputId": "b5bcdad1-2317-4d20-9164-4f560a8a7152",
        "colab": {
          "base_uri": "https://localhost:8080/"
        }
      },
      "execution_count": null,
      "outputs": [
        {
          "output_type": "stream",
          "name": "stdout",
          "text": [
            "Root is : 3.162277658817041\n",
            "Number of iterations done:  6\n"
          ]
        }
      ]
    },
    {
      "cell_type": "markdown",
      "source": [
        "***\n",
        "\n",
        "## **Recommended Programs**"
      ],
      "metadata": {
        "id": "P-HsXwPHoQaF"
      }
    },
    {
      "cell_type": "markdown",
      "source": [
        "### **Prog 1: nth root of a number**"
      ],
      "metadata": {
        "id": "kF6StIO8pN-n"
      }
    },
    {
      "cell_type": "code",
      "source": [
        "def func(x):\n",
        "  return x**p - num\n",
        "\n",
        "def deri_func(x):\n",
        "  return p*x**(p-1)\n",
        "\n",
        "def newton_raphson(func, derifunc, x0, tol):\n",
        "  i, max_iter = 0, 50\n",
        "  while i < max_iter:\n",
        "    xnew = x0 - func(x0)/derifunc(x0)\n",
        "    diffx = abs(xnew - x0)\n",
        "    x0 = xnew\n",
        "    if func(x0) == 0 or diffx < tol:\n",
        "      return x0, i\n",
        "    i = i+1\n",
        "  return x0, i\n",
        "\n",
        "num=8\n",
        "p = 4\n",
        "digit=3\n",
        "\n",
        "x0 = 20\n",
        "tol = 1e-3\n",
        "result,i = newton_raphson(func,deri_func,x0,tol)\n",
        "print(result)"
      ],
      "metadata": {
        "id": "aMGcFzSMmvNG",
        "outputId": "11665f18-47fc-4cdf-879f-17bd85826133",
        "colab": {
          "base_uri": "https://localhost:8080/"
        }
      },
      "execution_count": null,
      "outputs": [
        {
          "output_type": "stream",
          "name": "stdout",
          "text": [
            "1.6817928536485853 1.681792830507429\n"
          ]
        }
      ]
    },
    {
      "cell_type": "code",
      "source": [],
      "metadata": {
        "id": "df6SQdYG2KbV"
      },
      "execution_count": null,
      "outputs": []
    },
    {
      "cell_type": "markdown",
      "source": [
        "### **Prog 2: Solution of transcedental equation**\n",
        "$$ \\alpha = tan(\\alpha)$$"
      ],
      "metadata": {
        "id": "2lSYZmuP2LAB"
      }
    },
    {
      "cell_type": "code",
      "source": [
        "import numpy as np\n",
        "\n",
        "def func(x):\n",
        "  return np.tan(x)\n",
        "\n",
        "def fixed_point_method(func, x0, max_iter, tol):\n",
        "  i = 0\n",
        "  x_i = x0\n",
        "#  print(x0)\n",
        "  while i < max_iter:\n",
        "    x_n = func(x_i)\n",
        "    print(x_n,x_i,i,abs(x_n-x_i))\n",
        "    if abs(x_n - x_i) <= tol:\n",
        "      return x_n, i+1\n",
        "    x_i = x_n\n",
        "    i +=1\n",
        "    pass\n",
        "\n",
        "\n",
        "x0 = 6\n",
        "tol = 1e-3\n",
        "max_iter = 10000\n",
        "root, iter = fixed_point_method(func,x0,max_iter, tol)\n",
        "\n",
        "print(root,iter)\n",
        "\n",
        "\n"
      ],
      "metadata": {
        "outputId": "ed9bb579-39ce-41fc-8131-a1ea724c7b0c",
        "colab": {
          "base_uri": "https://localhost:8080/"
        },
        "id": "kCfqmKfo2LAE"
      },
      "execution_count": 17,
      "outputs": [
        {
          "output_type": "stream",
          "name": "stdout",
          "text": [
            "-0.29100619138474915 6 0 6.291006191384749\n",
            "-0.2995089089814035 -0.29100619138474915 1 0.00850271759665433\n",
            "-0.3087982483098726 -0.2995089089814035 2 0.009289339328469148\n",
            "-0.31900295124957934 -0.3087982483098726 3 0.010204702939706711\n",
            "-0.33028322676642485 -0.31900295124957934 4 0.011280275516845517\n",
            "-0.3428413541025903 -0.33028322676642485 5 0.012558127336165459\n",
            "-0.3569369951754037 -0.3428413541025903 6 0.014095641072813414\n",
            "-0.3729098992141718 -0.3569369951754037 7 0.015972904038768054\n",
            "-0.3912146118489476 -0.3729098992141718 8 0.018304712634775844\n",
            "-0.4124754652205355 -0.3912146118489476 9 0.021260853371587896\n",
            "-0.4375774717550293 -0.4124754652205355 10 0.025102006534493793\n",
            "-0.4678244492316413 -0.4375774717550293 11 0.03024697747661198\n",
            "-0.505232007343817 -0.4678244492316413 12 0.03740755811217572\n",
            "-0.5531155065287968 -0.505232007343817 13 0.047883499184979805\n",
            "-0.6174000501046554 -0.5531155065287968 14 0.06428454357585855\n",
            "-0.7099912136153137 -0.6174000501046554 15 0.09259116351065833\n",
            "-0.8595133876586519 -0.7099912136153137 16 0.14952217404333823\n",
            "-1.1604133477794472 -0.8595133876586519 17 0.30089996012079523\n",
            "-2.2983929788415987 -1.1604133477794472 18 1.1379796310621515\n",
            "1.1228402064130882 -2.2983929788415987 19 3.421233185254687\n",
            "2.081006310950803 1.1228402064130882 20 0.9581661045377146\n",
            "-1.786880759915378 2.081006310950803 21 3.867887070866181\n",
            "4.555567284333124 -1.786880759915378 22 6.342448044248502\n",
            "6.324308890711026 4.555567284333124 23 1.768741606377902\n",
            "0.04114678126129482 6.324308890711026 24 6.283162109449731\n",
            "0.04117001828842724 0.04114678126129482 25 2.323702713242365e-05\n",
            "0.04117001828842724 26\n"
          ]
        }
      ]
    }
  ]
}