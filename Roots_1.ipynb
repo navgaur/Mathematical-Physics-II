{
  "nbformat": 4,
  "nbformat_minor": 0,
  "metadata": {
    "colab": {
      "provenance": [],
      "authorship_tag": "ABX9TyPH7iF+l9BQhFtJtvzY/jST",
      "include_colab_link": true
    },
    "kernelspec": {
      "name": "python3",
      "display_name": "Python 3"
    },
    "language_info": {
      "name": "python"
    }
  },
  "cells": [
    {
      "cell_type": "markdown",
      "metadata": {
        "id": "view-in-github",
        "colab_type": "text"
      },
      "source": [
        "<a href=\"https://colab.research.google.com/github/navgaur/Mathematical-Physics-II/blob/main/Roots_1.ipynb\" target=\"_parent\"><img src=\"https://colab.research.google.com/assets/colab-badge.svg\" alt=\"Open In Colab\"/></a>"
      ]
    },
    {
      "cell_type": "markdown",
      "source": [
        "# **Root Finding**\n"
      ],
      "metadata": {
        "id": "rTuEY9UJCI7m"
      }
    },
    {
      "cell_type": "markdown",
      "source": [
        "## **Bisection Method**\n",
        "\n",
        "This is the simplest *iterative method* to find the root of a real function. The steps required for the method are:\n",
        "\n",
        "1. **Initial setup**: Chose a initial interval $[a,b]$ such the the function $f(x)$ have opposite signs at the end points $a$ and $b$ *i.e.* $f(a).f(b) < 0$.    \n",
        "2. **Iteration**: <br>\n",
        "-  Calculate the mid point of the interval $c = \\frac{a+b}{2}$\n",
        "-  Calculate $f(c)$:\n",
        "  - If $f(c) = 0$, $c$ is the desired root.\n",
        "  - If the sign of $f(c)$ is same as that of $f(a)$, then $a = c$.   \n",
        "  - If the sign of $f(c)$ is same as that of $f(b)$, then $b = c$.\n",
        "3. **Convergence** : Repeat the iterations until any of the following conditions are met:\n",
        "-  $|b - a| < tol$\n",
        "-  $f(c) \\approx 0$\n",
        "-  Maximum number of iteractions are reached\n"
      ],
      "metadata": {
        "id": "kc8BxohJCUjB"
      }
    },
    {
      "cell_type": "code",
      "execution_count": 13,
      "metadata": {
        "colab": {
          "base_uri": "https://localhost:8080/"
        },
        "id": "PzPc1FCM9kYF",
        "outputId": "0452164a-1af7-4540-c8f2-a8e1295ccb95"
      },
      "outputs": [
        {
          "output_type": "stream",
          "name": "stdout",
          "text": [
            "Root is : 5.009765625\n",
            "Number of iterations done:  9\n"
          ]
        }
      ],
      "source": [
        "# Bisection Method\n",
        "#   func  : The function for which the root is required\n",
        "#   [a,b] : The range between which root exists\n",
        "#   tol   : THe accuracy of the root\n",
        "\n",
        "def bisec(func, a, b, tol):\n",
        "  i = 0\n",
        "  niter = 100\n",
        "  while i < niter:\n",
        "    c = (a+b)/2\n",
        "    if func(c) == 0 or (b-a)/2 < tol:\n",
        "      return c, i\n",
        "    if func(c)*func(a) > 0:\n",
        "      b = c\n",
        "    else:\n",
        "      a = c\n",
        "    i=i+1\n",
        "  return c\n",
        "\n",
        "# Definition of the function\n",
        "def ff(x):\n",
        "  return x**2 - 10\n",
        "\n",
        "res,niter=bisec(ff,0,10,0.01)\n",
        "print(\"Root is :\", res)\n",
        "print(\"Number of iterations done: \", niter)"
      ]
    },
    {
      "cell_type": "markdown",
      "source": [
        "***"
      ],
      "metadata": {
        "id": "zqb8wBKNMmbc"
      }
    },
    {
      "cell_type": "markdown",
      "source": [
        "## **Newton Raphson Method**"
      ],
      "metadata": {
        "id": "lZRNfwEXMqwQ"
      }
    },
    {
      "cell_type": "code",
      "source": [],
      "metadata": {
        "id": "AjCm3a5hMowF"
      },
      "execution_count": null,
      "outputs": []
    }
  ]
}