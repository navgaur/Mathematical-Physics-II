{
  "nbformat": 4,
  "nbformat_minor": 0,
  "metadata": {
    "colab": {
      "provenance": [],
      "authorship_tag": "ABX9TyPBSUybLmx0gY/3Nk32hwrV",
      "include_colab_link": true
    },
    "kernelspec": {
      "name": "python3",
      "display_name": "Python 3"
    },
    "language_info": {
      "name": "python"
    }
  },
  "cells": [
    {
      "cell_type": "markdown",
      "metadata": {
        "id": "view-in-github",
        "colab_type": "text"
      },
      "source": [
        "<a href=\"https://colab.research.google.com/github/navgaur/Mathematical-Physics-II/blob/main/Roots_1.ipynb\" target=\"_parent\"><img src=\"https://colab.research.google.com/assets/colab-badge.svg\" alt=\"Open In Colab\"/></a>"
      ]
    },
    {
      "cell_type": "markdown",
      "source": [
        "# **Root Finding**\n"
      ],
      "metadata": {
        "id": "rTuEY9UJCI7m"
      }
    },
    {
      "cell_type": "markdown",
      "source": [
        "## **Bisection Method**\n",
        "\n",
        "This is the simplest *iterative method* to find the root of a real function. The steps required for the method are:\n",
        "\n",
        "1. **Initial setup**: Chose a initial interval $[a,b]$ such the the function $f(x)$ have opposite signs at the end points $a$ and $b$ *i.e.* $f(a).f(b) < 0$.    \n",
        "2. **Iteration**: <br>\n",
        "-  Calculate the mid point of the interval $c = \\frac{a+b}{2}$\n",
        "-  Calculate $f(c)$:\n",
        "  - If $f(c) = 0$, $c$ is the desired root.\n",
        "  - If the sign of $f(c)$ is same as that of $f(a)$, then $a = c$.   \n",
        "  - If the sign of $f(c)$ is same as that of $f(b)$, then $b = c$.\n",
        "3. **Convergence** : Repeat the iterations until any of the following conditions are met:\n",
        "-  $|b - a| < tol$, where $tol$ is the accuracy/tolerance of the root.\n",
        "-  $f(c) \\approx 0$\n",
        "-  Maximum number of iteractions are reached\n"
      ],
      "metadata": {
        "id": "kc8BxohJCUjB"
      }
    },
    {
      "cell_type": "code",
      "execution_count": null,
      "metadata": {
        "colab": {
          "base_uri": "https://localhost:8080/"
        },
        "id": "PzPc1FCM9kYF",
        "outputId": "7d9cebb3-e02c-4567-fd76-23ffbc723121"
      },
      "outputs": [
        {
          "output_type": "stream",
          "name": "stdout",
          "text": [
            "Root is : 3.1622314453125\n",
            "Number of iterations done:  13\n"
          ]
        }
      ],
      "source": [
        "# Bisection Method\n",
        "#   func  : The function for which the root is required\n",
        "#   [a,b] : The range between which root exists\n",
        "#   tol   : THe accuracy of the root\n",
        "\n",
        "def bisec(func, a, b, tol):\n",
        "  i = 0\n",
        "  niter = 50\n",
        "  while i < niter:\n",
        "    c = (a+b)/2\n",
        "    if func(c) == 0 or (b-a)/2 < tol:\n",
        "      return c, i\n",
        "    if func(c)*func(a) > 0:\n",
        "      a = c\n",
        "    else:\n",
        "      b = c\n",
        "    i=i+1\n",
        "  return c,i\n",
        "\n",
        "# Definition of the function\n",
        "def ff(x):\n",
        "  return x**2 - 10\n",
        "\n",
        "res,niter=bisec(ff,0,10,0.001)\n",
        "print(\"Root is :\", res)\n",
        "print(\"Number of iterations done: \", niter)"
      ]
    },
    {
      "cell_type": "markdown",
      "source": [
        "***"
      ],
      "metadata": {
        "id": "zqb8wBKNMmbc"
      }
    },
    {
      "cell_type": "markdown",
      "source": [
        "## **Newton Raphson Method**\n",
        "\n",
        "1. **Initial guess**: Make a initial guess $x_0$\n",
        "2. **Iteration**: Use the formula:\n",
        "  $$x_{n+1} = x_n - \\frac{f(x_n)}{f'(x_n)} $$\n",
        "  with\n",
        "  - $x_n$ root for the nth iteration. $f(x_n)$ value of the function at $x_n$. $f'(x_n)$ is the derivative of the function at $x_n$.\n",
        "  - $x_{n+1}$ is the root after next iteration. $f(x_{n+1})$ value of the function at $x_{n+1}$.\n",
        "3. Repeat the iterations till\n",
        "  - Reached required number of iterations\n",
        "  - Reached to a value of root upto desired accuracy / tolerance"
      ],
      "metadata": {
        "id": "lZRNfwEXMqwQ"
      }
    },
    {
      "cell_type": "code",
      "source": [
        "# Newton Raphson Method\n",
        "#  func : definition of the function whose roots are required\n",
        "#  x0   : starting approximation of the root\n",
        "#  tol  : tolerance/accurary of the root\n",
        "\n",
        "def newton_raphson(func, x0, tol):\n",
        "  i, max_iter = 0, 50\n",
        "  while i < max_iter:\n",
        "    xnew = x0 - func(x0)/derifunc(x0)\n",
        "    diffx = abs(xnew - x0)\n",
        "    x0 = xnew\n",
        "    if func(x0) == 0 or diffx < tol:\n",
        "      return x0, i\n",
        "    i = i+1\n",
        "  return x0, i\n",
        "\n",
        "def func(x):\n",
        "  return x*x - 10\n",
        "\n",
        "def derifunc(x):\n",
        "  return 2*x\n",
        "\n",
        "res, niter = newton_raphson(func,10,0.001)\n",
        "\n",
        "print(\"Root is :\", res)\n",
        "print(\"Number of iterations done: \", niter)"
      ],
      "metadata": {
        "id": "_YP_Flt61jLK",
        "outputId": "e8aa9e48-895d-45c0-d42d-8c91f9f60179",
        "colab": {
          "base_uri": "https://localhost:8080/"
        }
      },
      "execution_count": null,
      "outputs": [
        {
          "output_type": "stream",
          "name": "stdout",
          "text": [
            "Root is : 3.162277665175675\n",
            "Number of iterations done:  4\n"
          ]
        }
      ]
    },
    {
      "cell_type": "markdown",
      "source": [
        "## **Secant Method**\n",
        "\n",
        "This method of root finding requires two initial guesses but unlike the *bisection method* this does not require the initial guesses to be bracket the root (the root to be inside the initial guess).\n",
        "\n",
        "1. **Initial guess**: Make a initial guess $x_0$ and $x_1$\n",
        "2. **Iteration**: Use the formula:\n",
        "  $$x_{n+1} = x_n - \\frac{f(x_n) \\times (x_n - x_{n-1})}{f(x_n) - f(x_{n-1})} $$\n",
        "  with\n",
        "  - $x_n$ root for the nth iteration. $f(x_n)$ value of the function at $x_n$.\n",
        "  - $x_{n+1}$ is the root after next iteration. $f(x_{n+1})$ value of the function at $x_{n+1}$.\n",
        "3. Repeat the iterations till\n",
        "  - Reached required number of iterations\n",
        "  - Reached to a value of root upto desired accuracy / tolerance"
      ],
      "metadata": {
        "id": "_tGEiUJCYRdG"
      }
    },
    {
      "cell_type": "code",
      "source": [
        "def secant_method(func, x0, x1, tol):\n",
        "  niter = 100\n",
        "  for i in range(niter):\n",
        "    x2 = x1 - func(x1)*(x1 - x0)/(func(x1) - func(x0))\n",
        "\n",
        "    diffx = x2 - x1\n",
        "    if abs(diffx) < tol:\n",
        "      return x2, i\n",
        "    x0, x1 = x1, x2\n",
        "\n",
        "def func(x):\n",
        "  return x**2 - 10\n",
        "\n",
        "res,iter = secant_method(func, 10, 1, 0.001)\n",
        "print(\"Root is :\", res)\n",
        "print(\"Number of iterations done: \", iter)\n"
      ],
      "metadata": {
        "id": "i9eNXV5-ZS5u",
        "outputId": "b5bcdad1-2317-4d20-9164-4f560a8a7152",
        "colab": {
          "base_uri": "https://localhost:8080/"
        }
      },
      "execution_count": null,
      "outputs": [
        {
          "output_type": "stream",
          "name": "stdout",
          "text": [
            "Root is : 3.162277658817041\n",
            "Number of iterations done:  6\n"
          ]
        }
      ]
    },
    {
      "cell_type": "markdown",
      "source": [
        "***\n",
        "\n",
        "## **Recommended Programs**"
      ],
      "metadata": {
        "id": "P-HsXwPHoQaF"
      }
    },
    {
      "cell_type": "markdown",
      "source": [
        "### **Prog 1: nth root of a number**"
      ],
      "metadata": {
        "id": "kF6StIO8pN-n"
      }
    },
    {
      "cell_type": "code",
      "source": [
        "def func(x):\n",
        "  return x**p - num\n",
        "\n",
        "def deri_func(x):\n",
        "  return p*x**(p-1)\n",
        "\n",
        "def newton_raphson(func, derifunc, x0, tol):\n",
        "  i, max_iter = 0, 50\n",
        "  while i < max_iter:\n",
        "    xnew = x0 - func(x0)/derifunc(x0)\n",
        "    diffx = abs(xnew - x0)\n",
        "    x0 = xnew\n",
        "    if func(x0) == 0 or diffx < tol:\n",
        "      return x0, i\n",
        "    i = i+1\n",
        "  return x0, i\n",
        "\n",
        "num=8\n",
        "p = 4\n",
        "digit=3\n",
        "\n",
        "x0 = 20\n",
        "tol = 1e-3\n",
        "result,i = newton_raphson(func,deri_func,x0,tol)\n",
        "print(result)"
      ],
      "metadata": {
        "id": "aMGcFzSMmvNG",
        "outputId": "11665f18-47fc-4cdf-879f-17bd85826133",
        "colab": {
          "base_uri": "https://localhost:8080/"
        }
      },
      "execution_count": null,
      "outputs": [
        {
          "output_type": "stream",
          "name": "stdout",
          "text": [
            "1.6817928536485853 1.681792830507429\n"
          ]
        }
      ]
    },
    {
      "cell_type": "code",
      "source": [],
      "metadata": {
        "id": "df6SQdYG2KbV"
      },
      "execution_count": null,
      "outputs": []
    },
    {
      "cell_type": "markdown",
      "source": [
        "### **Prog 2: Solution of transcedental equation**\n",
        "$$ \\alpha = tan(\\alpha)$$"
      ],
      "metadata": {
        "id": "2lSYZmuP2LAB"
      }
    },
    {
      "cell_type": "code",
      "source": [
        "import math\n",
        "\n",
        "def func(x):\n",
        "  return math.tan(x)\n",
        "\n",
        "def fixed_point_method(func, x0, max_iter, tol):\n",
        "  i = 0\n",
        "  x_i = x0\n",
        "#  print(x0)\n",
        "  while i < max_iter:\n",
        "    x_n = func(x_i)\n",
        "    print(x_n,x_i,i,abs(x_n-x_i))\n",
        "    if abs(x_n - x_i) <= tol:\n",
        "      return x_n, i+1\n",
        "    x_i = x_n\n",
        "    i +=1\n",
        "    pass\n",
        "\n",
        "\n",
        "x0 = 10\n",
        "tol = 1e-2\n",
        "max_iter = 10000\n",
        "root, iter = fixed_point_method(func,x0,max_iter, tol)\n",
        "\n",
        "print(root,iter)\n",
        "\n"
      ],
      "metadata": {
        "outputId": "1274ab97-eb1a-49cd-eb0b-5ecb8ad3581d",
        "colab": {
          "base_uri": "https://localhost:8080/"
        },
        "id": "kCfqmKfo2LAE"
      },
      "execution_count": 24,
      "outputs": [
        {
          "output_type": "stream",
          "name": "stdout",
          "text": [
            "0.6483608274590866 10 0 9.351639172540914\n",
            "0.7576211478872673 0.6483608274590866 1 0.10926032042818068\n",
            "0.9459338591598025 0.7576211478872673 2 0.18831271127253524\n",
            "1.3864330955104547 0.9459338591598025 3 0.44049923635065213\n",
            "5.362480916383637 1.3864330955104547 4 3.976047820873182\n",
            "-1.315184703177873 5.362480916383637 5 6.67766561956151\n",
            "-3.8266078256119784 -1.315184703177873 6 2.5114231224341053\n",
            "-0.8169899818761049 -3.8266078256119784 7 3.0096178437358736\n",
            "-1.065267263109151 -0.8169899818761049 8 0.24827728123304615\n",
            "-1.806673286063267 -1.065267263109151 9 0.741406022954116\n",
            "4.16057959135585 -1.806673286063267 10 5.967252877419117\n",
            "1.624438004840926 4.16057959135585 11 2.536141586514924\n",
            "-18.62433669381662 1.624438004840926 12 20.248774698657545\n",
            "0.22910609352109298 -18.62433669381662 13 18.853442787337713\n",
            "0.23320064619717207 0.22910609352109298 14 0.004094552676079083\n",
            "0.23320064619717207 15\n"
          ]
        }
      ]
    }
  ]
}