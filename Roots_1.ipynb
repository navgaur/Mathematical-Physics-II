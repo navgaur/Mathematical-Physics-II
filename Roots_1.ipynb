{
  "nbformat": 4,
  "nbformat_minor": 0,
  "metadata": {
    "colab": {
      "provenance": [],
      "authorship_tag": "ABX9TyPThIKTVpafoh1/xphjPpKo",
      "include_colab_link": true
    },
    "kernelspec": {
      "name": "python3",
      "display_name": "Python 3"
    },
    "language_info": {
      "name": "python"
    }
  },
  "cells": [
    {
      "cell_type": "markdown",
      "metadata": {
        "id": "view-in-github",
        "colab_type": "text"
      },
      "source": [
        "<a href=\"https://colab.research.google.com/github/navgaur/Mathematical-Physics-II/blob/main/Roots_1.ipynb\" target=\"_parent\"><img src=\"https://colab.research.google.com/assets/colab-badge.svg\" alt=\"Open In Colab\"/></a>"
      ]
    },
    {
      "cell_type": "markdown",
      "source": [
        "# **Root Finding**\n"
      ],
      "metadata": {
        "id": "rTuEY9UJCI7m"
      }
    },
    {
      "cell_type": "markdown",
      "source": [
        "## **Bisection Method**\n",
        "\n",
        "This is the simplest *iterative method* to find the root of a real function. The steps required for the method are:\n",
        "\n",
        "1. **Initial setup**: Chose a initial interval $[a,b]$ such the the function $f(x)$ have opposite signs at the end points $a$ and $b$ *i.e.* $f(a).f(b) < 0$.    \n",
        "2. **Iteration**: <br>\n",
        "-  Calculate the mid point of the interval $c = \\frac{a+b}{2}$\n",
        "-  Calculate $f(c)$:\n",
        "  - If $f(c) = 0$, $c$ is the desired root.\n",
        "  - If the sign of $f(c)$ is same as that of $f(a)$, then $a = c$.   \n",
        "  - If the sign of $f(c)$ is same as that of $f(b)$, then $b = c$.\n",
        "3. **Convergence** : Repeat the iterations until any of the following conditions are met:\n",
        "-  $|b - a| < tol$, where $tol$ is the accuracy/tolerance of the root.\n",
        "-  $f(c) \\approx 0$\n",
        "-  Maximum number of iteractions are reached\n"
      ],
      "metadata": {
        "id": "kc8BxohJCUjB"
      }
    },
    {
      "cell_type": "code",
      "execution_count": null,
      "metadata": {
        "colab": {
          "base_uri": "https://localhost:8080/"
        },
        "id": "PzPc1FCM9kYF",
        "outputId": "7d9cebb3-e02c-4567-fd76-23ffbc723121"
      },
      "outputs": [
        {
          "output_type": "stream",
          "name": "stdout",
          "text": [
            "Root is : 3.1622314453125\n",
            "Number of iterations done:  13\n"
          ]
        }
      ],
      "source": [
        "# Bisection Method\n",
        "#   func  : The function for which the root is required\n",
        "#   [a,b] : The range between which root exists\n",
        "#   tol   : THe accuracy of the root\n",
        "\n",
        "def bisec(func, a, b, tol):\n",
        "  i = 0\n",
        "  niter = 50\n",
        "  while i < niter:\n",
        "    c = (a+b)/2\n",
        "    if func(c) == 0 or (b-a)/2 < tol:\n",
        "      return c, i\n",
        "    if func(c)*func(a) > 0:\n",
        "      a = c\n",
        "    else:\n",
        "      b = c\n",
        "    i=i+1\n",
        "  return c,i\n",
        "\n",
        "# Definition of the function\n",
        "def ff(x):\n",
        "  return x**2 - 10\n",
        "\n",
        "res,niter=bisec(ff,0,10,0.001)\n",
        "print(\"Root is :\", res)\n",
        "print(\"Number of iterations done: \", niter)"
      ]
    },
    {
      "cell_type": "markdown",
      "source": [
        "***"
      ],
      "metadata": {
        "id": "zqb8wBKNMmbc"
      }
    },
    {
      "cell_type": "markdown",
      "source": [
        "## **Newton Raphson Method**\n",
        "\n",
        "1. **Initial guess**: Make a initial guess $x_0$\n",
        "2. **Iteration**: Use the formula:\n",
        "  $$x_{n+1} = x_n - \\frac{f(x_n)}{f'(x_n)} $$\n",
        "  with\n",
        "  - $x_n$ root for the nth iteration. $f(x_n)$ value of the function at $x_n$. $f'(x_n)$ is the derivative of the function at $x_n$.\n",
        "  - $x_{n+1}$ is the root after next iteration. $f(x_{n+1})$ value of the function at $x_{n+1}$.\n",
        "3. Repeat the iterations till\n",
        "  - Reached required number of iterations\n",
        "  - Reached to a value of root upto desired accuracy / tolerance"
      ],
      "metadata": {
        "id": "lZRNfwEXMqwQ"
      }
    },
    {
      "cell_type": "code",
      "source": [
        "# Newton Raphson Method\n",
        "#  func : definition of the function whose roots are required\n",
        "#  x0   : starting approximation of the root\n",
        "#  tol  : tolerance/accurary of the root\n",
        "\n",
        "def newton_raphson(func, x0, tol):\n",
        "  i, max_iter = 0, 50\n",
        "  while i < max_iter:\n",
        "    xnew = x0 - func(x0)/derifunc(x0)\n",
        "    diffx = abs(xnew - x0)\n",
        "    x0 = xnew\n",
        "    if func(x0) == 0 or diffx < tol:\n",
        "      return x0, i\n",
        "    i = i+1\n",
        "  return x0, i\n",
        "\n",
        "def func(x):\n",
        "  return x*x - 10\n",
        "\n",
        "def derifunc(x):\n",
        "  return 2*x\n",
        "\n",
        "res, niter = newton_raphson(func,10,0.001)\n",
        "\n",
        "print(\"Root is :\", res)\n",
        "print(\"Number of iterations done: \", niter)"
      ],
      "metadata": {
        "id": "_YP_Flt61jLK",
        "outputId": "e8aa9e48-895d-45c0-d42d-8c91f9f60179",
        "colab": {
          "base_uri": "https://localhost:8080/"
        }
      },
      "execution_count": null,
      "outputs": [
        {
          "output_type": "stream",
          "name": "stdout",
          "text": [
            "Root is : 3.162277665175675\n",
            "Number of iterations done:  4\n"
          ]
        }
      ]
    },
    {
      "cell_type": "markdown",
      "source": [
        "## **Secant Method**\n",
        "\n",
        "This method of root finding requires two initial guesses but unlike the *bisection method* this does not require the initial guesses to be bracket the root (the root to be inside the initial guess).\n",
        "\n",
        "1. **Initial guess**: Make a initial guess $x_0$ and $x_1$\n",
        "2. **Iteration**: Use the formula:\n",
        "  $$x_{n+1} = x_n - \\frac{f(x_n) \\times (x_n - x_{n-1})}{f(x_n) - f(x_{n-1})} $$\n",
        "  with\n",
        "  - $x_n$ root for the nth iteration. $f(x_n)$ value of the function at $x_n$.\n",
        "  - $x_{n+1}$ is the root after next iteration. $f(x_{n+1})$ value of the function at $x_{n+1}$.\n",
        "3. Repeat the iterations till\n",
        "  - Reached required number of iterations\n",
        "  - Reached to a value of root upto desired accuracy / tolerance"
      ],
      "metadata": {
        "id": "_tGEiUJCYRdG"
      }
    },
    {
      "cell_type": "code",
      "source": [
        "def secant_method(func, x0, x1, tol):\n",
        "  niter = 100\n",
        "  for i in range(niter):\n",
        "    x2 = x1 - func(x1)*(x1 - x0)/(func(x1) - func(x0))\n",
        "\n",
        "    diffx = x2 - x1\n",
        "    if abs(diffx) < tol:\n",
        "      return x2, i\n",
        "    x0, x1 = x1, x2\n",
        "\n",
        "def func(x):\n",
        "  return x**2 - 10\n",
        "\n",
        "res,iter = secant_method(func, 10, 1, 0.001)\n",
        "print(\"Root is :\", res)\n",
        "print(\"Number of iterations done: \", iter)\n"
      ],
      "metadata": {
        "id": "i9eNXV5-ZS5u",
        "outputId": "b5bcdad1-2317-4d20-9164-4f560a8a7152",
        "colab": {
          "base_uri": "https://localhost:8080/"
        }
      },
      "execution_count": null,
      "outputs": [
        {
          "output_type": "stream",
          "name": "stdout",
          "text": [
            "Root is : 3.162277658817041\n",
            "Number of iterations done:  6\n"
          ]
        }
      ]
    },
    {
      "cell_type": "markdown",
      "source": [
        "***\n",
        "\n",
        "## **Recommended Programs**"
      ],
      "metadata": {
        "id": "P-HsXwPHoQaF"
      }
    },
    {
      "cell_type": "markdown",
      "source": [
        "### **Prog 1: Determine the depth up to which a spherical homogeneous object of given radius and density will sink into a fluid of given density**\n",
        "\n",
        "Forces acting on a sphere in a fluid:\n",
        "\n",
        " - **Buoyant Force** ($F_b$): Upward force acting on sphere, equal to the weight of the displaced fluid by the sphere.\n",
        " $$F_b = \\rho_f \\ V_{sub} \\ g$$\n",
        " where\n",
        "  - $\\rho_f$ is density of fluid\n",
        "  - $V_{sub}$ Volume of sphere submerged in fluid\n",
        "  - $g$ acceleration due to gravity   \n",
        " - **Gravitational Force** ($F_g$) : Downward gravitational force on sphere\n",
        "  $$ F_g = \\rho_s \\ V_{sphere} \\ g$$\n",
        "  - $\\rho_s$ is density of the sphere\n",
        "  - $V_{sphere}$ Volume of sphere   \n",
        "\n"
      ],
      "metadata": {
        "id": "SUCh4coLSS4I"
      }
    },
    {
      "cell_type": "code",
      "source": [],
      "metadata": {
        "id": "df6SQdYG2KbV"
      },
      "execution_count": null,
      "outputs": []
    },
    {
      "cell_type": "markdown",
      "source": [
        "### **Prog 2: Solution of transcedental equation using Fixed Point Iteration Method**\n",
        "$$ x_{n+1} = g(x_n)$$\n",
        "\n",
        "This method has a big uncertainity regarding choice of $g(x)$\n",
        "\n",
        "$$ \\alpha = tan(\\alpha)$$"
      ],
      "metadata": {
        "id": "2lSYZmuP2LAB"
      }
    },
    {
      "cell_type": "markdown",
      "source": [
        "**First Formulation**\n",
        "\n",
        "consider $g(x) = tan(x)$"
      ],
      "metadata": {
        "id": "0G9DcsIFgriF"
      }
    },
    {
      "cell_type": "code",
      "source": [
        "import numpy as np\n",
        "\n",
        "def func(x):\n",
        "  return np.tan(x)\n",
        "\n",
        "def fixed_point_method(func, x0, max_iter, tol):\n",
        "  i = 0\n",
        "  x_i = x0\n",
        "  while i < max_iter:\n",
        "    x_n = func(x_i)\n",
        "#    print(x_n,x_i,i,abs(x_n-x_i))\n",
        "    if abs(x_n - x_i) <= tol:\n",
        "      return x_n, i+1\n",
        "    x_i = x_n\n",
        "    i +=1\n",
        "    pass\n",
        "\n",
        "x0 = 6\n",
        "tol = 1e-5\n",
        "max_iter = 10000\n",
        "root, iter = fixed_point_method(func,x0,max_iter, tol)\n",
        "\n",
        "print(root,iter)\n"
      ],
      "metadata": {
        "outputId": "92a2bffa-ed86-452f-8d6a-4ee003e92bbc",
        "colab": {
          "base_uri": "https://localhost:8080/"
        },
        "id": "kCfqmKfo2LAE"
      },
      "execution_count": null,
      "outputs": [
        {
          "output_type": "stream",
          "name": "stdout",
          "text": [
            "0.018561186411966482 1286\n"
          ]
        }
      ]
    },
    {
      "cell_type": "markdown",
      "source": [
        "**Second Formulation**\n",
        "\n",
        "Here the choice is $g(x) = tan^{-1}(x) + \\pi$\n",
        "The addition of $\\pi$ is done to ensure that we are close to the root.\n",
        "\n",
        "To reach close to second root we add $\\pi$ for third root we add $2\\pi$ and so on."
      ],
      "metadata": {
        "id": "LcRkv16uhP7d"
      }
    },
    {
      "cell_type": "code",
      "source": [
        "import numpy as np\n",
        "\n",
        "def func(x):\n",
        "  return np.arctan(x) + np.pi\n",
        "\n",
        "def fixed_point_method(func, x0, max_iter, tol):\n",
        "  i = 0\n",
        "  x_i = x0\n",
        "  while i < max_iter:\n",
        "    x_n = func(x_i)\n",
        "#    print(x_n,x_i,i,abs(x_n-x_i))\n",
        "    if abs(x_n - x_i) <= tol:\n",
        "      return x_n, i+1\n",
        "    x_i = x_n\n",
        "    i +=1\n",
        "    pass\n",
        "\n",
        "x0 = 10\n",
        "tol = 1e-5\n",
        "max_iter = 10000\n",
        "root, iter = fixed_point_method(func,x0,max_iter, tol)\n",
        "\n",
        "print(root,iter)"
      ],
      "metadata": {
        "id": "PQBAtNfYgyUt",
        "outputId": "0077dcb0-bf58-41c5-ad61-6bc9f30c91eb",
        "colab": {
          "base_uri": "https://localhost:8080/"
        }
      },
      "execution_count": null,
      "outputs": [
        {
          "output_type": "stream",
          "name": "stdout",
          "text": [
            "7.7252519665229915 4\n"
          ]
        }
      ]
    },
    {
      "cell_type": "markdown",
      "source": [
        "**Third Formulation**\n",
        "$$x = tan(x)$$\n",
        "$$\\frac{1}{x} = \\frac{1}{tan(x)} \\Rightarrow - \\frac{1}{x} + \\frac{1}{tan(x)} = 0$$\n",
        "$$f(x) = \\frac{1}{x} - \\frac{1}{tan(x)} = 0$$\n",
        "\n",
        "In Finite Difference Method:\n",
        "\n",
        "x = g(x)\n",
        "\n",
        "so\n",
        "$$g(x) = \\frac{1}{x} - \\frac{1}{tan(x)} + x$$"
      ],
      "metadata": {
        "id": "yvoc1Ir3oNrx"
      }
    },
    {
      "cell_type": "code",
      "source": [
        "import numpy as np\n",
        "\n",
        "def func(x):\n",
        "  return - 1/x + 1/np.tan(x) + x\n",
        "\n",
        "def fixed_point_method(func, x0, max_iter, tol):\n",
        "  i = 0\n",
        "  x_i = x0\n",
        "  while i < max_iter:\n",
        "    x_n = func(x_i)\n",
        "#    print(x_n,x_i,i,abs(x_n-x_i))\n",
        "    if abs(x_n - x_i) <= tol:\n",
        "      return x_n, i+1\n",
        "    x_i = x_n\n",
        "    i +=1\n",
        "    pass\n",
        "#  return x_n, i\n",
        "\n",
        "x0 = 7\n",
        "tol = 1e-4\n",
        "max_iter = 100\n",
        "root, iter = fixed_point_method(func,x0,max_iter, tol)\n",
        "\n",
        "print(root,iter)"
      ],
      "metadata": {
        "id": "_ZtQn34afgy5",
        "outputId": "d168057b-d7a6-46c9-c630-c2f2c493bdae",
        "colab": {
          "base_uri": "https://localhost:8080/"
        }
      },
      "execution_count": null,
      "outputs": [
        {
          "output_type": "stream",
          "name": "stdout",
          "text": [
            "7.7252518369378125 4\n"
          ]
        }
      ]
    },
    {
      "cell_type": "markdown",
      "source": [
        "### **Prog 3: nth root of a number**"
      ],
      "metadata": {
        "id": "kF6StIO8pN-n"
      }
    },
    {
      "cell_type": "code",
      "source": [
        "def func(x):\n",
        "  return x**p - num\n",
        "\n",
        "def deri_func(x):\n",
        "  return p*x**(p-1)\n",
        "\n",
        "def newton_raphson(func, derifunc, x0, tol):\n",
        "  i, max_iter = 0, 50\n",
        "  while i < max_iter:\n",
        "    xnew = x0 - func(x0)/derifunc(x0)\n",
        "    diffx = abs(xnew - x0)\n",
        "    x0 = xnew\n",
        "    if func(x0) == 0 or diffx < tol:\n",
        "      return x0, i\n",
        "    i = i+1\n",
        "  return x0, i\n",
        "\n",
        "num=8\n",
        "p = 4\n",
        "digit=3\n",
        "\n",
        "x0 = 20\n",
        "tol = 1e-3\n",
        "result,i = newton_raphson(func,deri_func,x0,tol)\n",
        "print(result)"
      ],
      "metadata": {
        "id": "aMGcFzSMmvNG",
        "outputId": "11665f18-47fc-4cdf-879f-17bd85826133",
        "colab": {
          "base_uri": "https://localhost:8080/"
        }
      },
      "execution_count": null,
      "outputs": [
        {
          "output_type": "stream",
          "name": "stdout",
          "text": [
            "1.6817928536485853 1.681792830507429\n"
          ]
        }
      ]
    }
  ]
}