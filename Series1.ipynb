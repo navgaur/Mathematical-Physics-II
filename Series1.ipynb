{
  "nbformat": 4,
  "nbformat_minor": 0,
  "metadata": {
    "colab": {
      "provenance": [],
      "authorship_tag": "ABX9TyNiQtGcMN722upYo7wFtWfG",
      "include_colab_link": true
    },
    "kernelspec": {
      "name": "python3",
      "display_name": "Python 3"
    },
    "language_info": {
      "name": "python"
    }
  },
  "cells": [
    {
      "cell_type": "markdown",
      "metadata": {
        "id": "view-in-github",
        "colab_type": "text"
      },
      "source": [
        "<a href=\"https://colab.research.google.com/github/navgaur/Mathematical-Physics-II/blob/test1/Series1.ipynb\" target=\"_parent\"><img src=\"https://colab.research.google.com/assets/colab-badge.svg\" alt=\"Open In Colab\"/></a>"
      ]
    },
    {
      "cell_type": "markdown",
      "source": [
        "To approximate the elementary functions (e.g. exp(x), sin(x), cos(x), ln(1+x), etc.) by a finite\n",
        "number of terms of Taylor’s series and discuss the truncation error. To plot the function as\n",
        "well the nth partial sum of its series for various values of n on the same graph and visualise\n",
        "the convergence of series."
      ],
      "metadata": {
        "id": "ZsEq2eivWOSg"
      }
    },
    {
      "cell_type": "code",
      "source": [],
      "metadata": {
        "id": "pedVoTG1WQ9U"
      },
      "execution_count": null,
      "outputs": []
    },
    {
      "cell_type": "code",
      "execution_count": null,
      "metadata": {
        "id": "-TBqxL2AWCWe"
      },
      "outputs": [],
      "source": []
    }
  ]
}