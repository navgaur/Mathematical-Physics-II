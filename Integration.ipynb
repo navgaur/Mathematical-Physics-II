{
  "nbformat": 4,
  "nbformat_minor": 0,
  "metadata": {
    "colab": {
      "provenance": [],
      "authorship_tag": "ABX9TyOmqKiXH8AD2nhLn0S/DfjK",
      "include_colab_link": true
    },
    "kernelspec": {
      "name": "python3",
      "display_name": "Python 3"
    },
    "language_info": {
      "name": "python"
    }
  },
  "cells": [
    {
      "cell_type": "markdown",
      "metadata": {
        "id": "view-in-github",
        "colab_type": "text"
      },
      "source": [
        "<a href=\"https://colab.research.google.com/github/navgaur/Mathematical-Physics-II/blob/test1/Integration.ipynb\" target=\"_parent\"><img src=\"https://colab.research.google.com/assets/colab-badge.svg\" alt=\"Open In Colab\"/></a>"
      ]
    },
    {
      "cell_type": "markdown",
      "source": [
        "# **Unit - 5**\n",
        "# **Numerical Integration**\n",
        "\n",
        "**Newton Cotes Integration methods (Trapezoidal and Simpson rules) for definite integrals**\n",
        "\n",
        "$$ \\int_a^b f(x) dx $$\n",
        "\n",
        "\n",
        "---"
      ],
      "metadata": {
        "id": "0VXh2cvyAW6L"
      }
    },
    {
      "cell_type": "markdown",
      "source": [
        "Divide the interval $[a,b]$ into n-subintervals and have $(n+1)$ points\n",
        "$$ x_i = a + j h, ~~ h = \\frac{(b - a)}{n}, ~~ i = 0,1,...,n$$\n",
        "\n",
        "For the above mentioned discreate datapoints $(x_i,y_i)$ ($y_i = f(x_i)$) one can find out Lagrange interpolating polynomial of order $n$:\n",
        "$$\n",
        "g_n(x) = \\sum_{k=0}^n L_k(x) f(x_k)\n",
        "$$\n",
        "The above interpolating polynomial ($g_n(x)$) is a good approximation of the original function $f(x)$ i.e.\n",
        "$$ g_n(x) \\approx f(x)$$\n",
        "\n",
        "So the definite integration becomes:\n",
        "$$\n",
        "\\int_a^b f(x) dx \\approx \\int_a^b g_n(x) dx = \\sum_{k=0}^n f(x_k) \\int_a^b L_k (x) dx = \\sum_a^b f(x_k) w_k\n",
        "$$\n",
        "\n",
        "Above formula is called **Newton-Cotes formula** of order $n$ and now one needs to evaluate the weights ($w_k$).\n",
        "$$ w_k = \\int_a^b L_k (x) dx, ~~ k = 0,1,..n$$"
      ],
      "metadata": {
        "id": "OygpQq6QR70i"
      }
    },
    {
      "cell_type": "markdown",
      "source": [
        "##**Trapezoidal Rule**\n",
        "\n",
        "Newton-Cotes formula for $n=1$ result in interpolating polynomial of order 1.\n",
        "\n",
        "$$ \\int_a^b f(x) dx \\approx \\frac{h}{2} (f_0 + f_1) $$\n",
        "\n",
        "The same can be derived from Lagrange interpolation polynomial.\n",
        "$$g_1(x) =\n",
        "f_0 \\frac{x - x_1}{x_0 - x_1} + f_1 \\frac{x - x_0}{x_1 - x_0}\n",
        "= f_0 \\frac{x - x_1}{-h} + f_1 \\frac{x - x_0}{h}\n",
        "$$\n",
        "with $x_0 = a$ and $x_1 = b$\n",
        "$$ \\int_{x_0}^{x_1} g_1(x) dx = - \\frac{f_0}{h} \\int_{x_0}^{x_1} (x - x_1) dx + \\frac{f_1}{h} \\int_{x_0}^{x_1} (x - x_0) dx\n",
        "= \\frac{h}{2} \\left( f_0 + f_1 \\right)   \n",
        "$$"
      ],
      "metadata": {
        "id": "a6ACZHvYjwrA"
      }
    },
    {
      "cell_type": "code",
      "source": [
        "def integrate_trapz(func,a,b,n):\n",
        "  h = (b-a)/n\n",
        "  tmp = 0.5 * (func(a) + func(b))\n",
        "  for i in range(1,n):\n",
        "    tmp += func(a+i*h)\n",
        "  result = h*tmp\n",
        "  return result\n",
        "\n",
        "def integrand(x):\n",
        "  return x**2\n",
        "\n",
        "low_lim = 0\n",
        "upp_lim = 2\n",
        "n = 100\n",
        "\n",
        "result = integrate_trapz(integrand,low_lim, upp_lim, n)\n",
        "\n",
        "print(result)"
      ],
      "metadata": {
        "id": "LEL3ZBqgjslK",
        "colab": {
          "base_uri": "https://localhost:8080/"
        },
        "outputId": "eebccf3a-ea56-4396-af40-0db43ccc8a40"
      },
      "execution_count": 1,
      "outputs": [
        {
          "output_type": "stream",
          "name": "stdout",
          "text": [
            "2.6668000000000003\n"
          ]
        }
      ]
    },
    {
      "cell_type": "markdown",
      "source": [
        "##**Simpsom (1/3) Rule**\n",
        "\n",
        "Newton-Cotes formula for $n=2$ result in interpolating polynomial of order 2. The points are $a = x_0, x_1 = (b+a)/2, x_2 = b$ and $h=(b-a)/2$. In this case we have three weights $w_0, w_1, w_2$ given as\n",
        "\n",
        "$$\n",
        "w_0 = \\int_{x_0}^{x_2} L_0(x) dx =\n",
        "\\int_{x_0}^{x_2} \\frac{(x - x_1)(x - x_2)}{(x_0 - x_1)(x_0 - x_2)} dx\n",
        "= \\frac{1}{2 h^2} \\int_{x_0}^{x_2} (x - x_1)(x - x_2) dx = \\frac{h}{3}\n",
        "$$\n",
        "\n",
        "$$\n",
        "w_1 = \\int_{x_0}^{x_2} L_1(x) dx =\n",
        "\\int_{x_0}^{x_2} \\frac{(x - x_0)(x - x_2)}{(x_1 - x_0)(x_1 - x_2)} dx\n",
        "= \\frac{- 1}{h^2} \\int_{x_0}^{x_2} (x - x_0)(x - x_2) dx = \\frac{4 h}{3}\n",
        "$$\n",
        "\n",
        "Similarly one can evaluate $w_2 = \\frac{h}{3}$. Thus\n",
        "$$\n",
        "\\int_a^b f(x) dx \\approx \\frac{h}{3} \\left( f_0 + 4 f_1 + f_2 \\right)\n",
        "$$"
      ],
      "metadata": {
        "id": "s0349BcUumD9"
      }
    },
    {
      "cell_type": "code",
      "source": [
        "def integrate_simp1(func,a,b,n):\n",
        "  h = (b-a)/n\n",
        "  tmp = func(a) + func(b)\n",
        "  for i in range(1,n,2):\n",
        "    tmp += 4*func(a+i*h)\n",
        "  for i in range(2,n-1,2):\n",
        "    tmp += 2*func(a+i*h)\n",
        "  result = h*tmp/3\n",
        "  return result\n",
        "\n",
        "def integrand(x):\n",
        "  return x**2\n",
        "\n",
        "low_lim = 0\n",
        "upp_lim = 2\n",
        "n = 10\n",
        "\n",
        "result = integrate_simp1(integrand,low_lim, upp_lim, n)\n",
        "\n",
        "print(result)"
      ],
      "metadata": {
        "id": "rAcMGb5hAnWV",
        "colab": {
          "base_uri": "https://localhost:8080/"
        },
        "outputId": "63bd944c-0694-48ae-8d49-927f3874b1be"
      },
      "execution_count": 2,
      "outputs": [
        {
          "output_type": "stream",
          "name": "stdout",
          "text": [
            "2.666666666666668\n"
          ]
        }
      ]
    }
  ]
}