{
  "nbformat": 4,
  "nbformat_minor": 0,
  "metadata": {
    "colab": {
      "provenance": [],
      "authorship_tag": "ABX9TyNbz+8kHVra5MnBAVqPgqDb",
      "include_colab_link": true
    },
    "kernelspec": {
      "name": "python3",
      "display_name": "Python 3"
    },
    "language_info": {
      "name": "python"
    }
  },
  "cells": [
    {
      "cell_type": "markdown",
      "metadata": {
        "id": "view-in-github",
        "colab_type": "text"
      },
      "source": [
        "<a href=\"https://colab.research.google.com/github/navgaur/Mathematical-Physics-II/blob/main/Integration.ipynb\" target=\"_parent\"><img src=\"https://colab.research.google.com/assets/colab-badge.svg\" alt=\"Open In Colab\"/></a>"
      ]
    },
    {
      "cell_type": "markdown",
      "source": [
        "# **Unit - 5**\n",
        "# **Numerical Integration**\n",
        "\n",
        "**Newton Cotes Integration methods (Trapezoidal and Simpson rules) for definite integrals**\n",
        "\n",
        "$$ \\int_a^b f(x) dx $$\n",
        "\n",
        "\n",
        "---"
      ],
      "metadata": {
        "id": "0VXh2cvyAW6L"
      }
    },
    {
      "cell_type": "markdown",
      "source": [
        "Divide the interval $[a,b]$ into n-subintervals and have $(n+1)$ points\n",
        "$$ x_i = a + j h, ~~ h = \\frac{(b - a)}{n}, ~~ i = 0,1,...,n$$\n",
        "\n",
        "For the above mentioned discreate datapoints $(x_i,y_i)$ ($y_i = f(x_i)$) one can find out Lagrange interpolating polynomial of order $n$:\n",
        "$$\n",
        "g_n(x) = \\sum_{k=0}^n L_k(x) f(x_k)\n",
        "$$\n",
        "The above interpolating polynomial ($g_n(x)$) is a good approximation of the original function $f(x)$ i.e.\n",
        "$$ g_n(x) \\approx f(x)$$\n",
        "\n",
        "So the definite integration becomes:\n",
        "$$\n",
        "\\int_a^b f(x) dx \\approx \\int_a^b g_n(x) dx = \\sum_{k=0}^n f(x_k) \\int_a^b L_k (x) dx = \\sum_a^b f(x_k) w_k\n",
        "$$\n",
        "\n",
        "Above formula is called **Newton-Cotes formula** of order $n$ and now one needs to evaluate the weights ($w_k$).\n",
        "$$ w_k = \\int_a^b L_k (x) dx, ~~ k = 0,1,..n$$"
      ],
      "metadata": {
        "id": "OygpQq6QR70i"
      }
    },
    {
      "cell_type": "markdown",
      "source": [
        "##**Trapezoidal Rule**\n",
        "\n",
        "Newton-Cotes formula for $n=1$ result in interpolating polynomial of order 1.\n",
        "\n",
        "$$ \\int_a^b f(x) dx \\approx \\frac{h}{2} (f_0 + f_1) $$\n",
        "\n",
        "The same can be derived from Lagrange interpolation polynomial.\n",
        "$$g_1(x) =\n",
        "f_0 \\frac{x - x_1}{x_0 - x_1} + f_1 \\frac{x - x_0}{x_1 - x_0}\n",
        "= f_0 \\frac{x - x_1}{-h} + f_1 \\frac{x - x_0}{h}\n",
        "$$\n",
        "with $x_0 = a$ and $x_1 = b$\n",
        "$$ \\int_{x_0}^{x_1} g_1(x) dx = - \\frac{f_0}{h} \\int_{x_0}^{x_1} (x - x_1) dx + \\frac{f_1}{h} \\int_{x_0}^{x_1} (x - x_0) dx\n",
        "= \\frac{h}{2} \\left( f_0 + f_1 \\right)   \n",
        "$$"
      ],
      "metadata": {
        "id": "a6ACZHvYjwrA"
      }
    },
    {
      "cell_type": "code",
      "source": [
        "def integrate_trapz(func,a,b,n):\n",
        "  h = (b-a)/n\n",
        "  tmp = 0.5 * (func(a) + func(b))\n",
        "  for i in range(1,n):\n",
        "    tmp += func(a+i*h)\n",
        "  result = h*tmp\n",
        "  return result\n",
        "\n",
        "def integrand(x):\n",
        "  return x**2\n",
        "\n",
        "low_lim = 0\n",
        "upp_lim = 2\n",
        "n = 100\n",
        "\n",
        "result = integrate_trapz(integrand,low_lim, upp_lim, n)\n",
        "\n",
        "print(result)"
      ],
      "metadata": {
        "id": "LEL3ZBqgjslK",
        "colab": {
          "base_uri": "https://localhost:8080/"
        },
        "outputId": "eebccf3a-ea56-4396-af40-0db43ccc8a40"
      },
      "execution_count": null,
      "outputs": [
        {
          "output_type": "stream",
          "name": "stdout",
          "text": [
            "2.6668000000000003\n"
          ]
        }
      ]
    },
    {
      "cell_type": "markdown",
      "source": [
        "##**Simpsom (1/3) Rule**\n",
        "\n",
        "Newton-Cotes formula for $n=2$ result in interpolating polynomial of order 2. The points are $a = x_0, x_1 = (b+a)/2, x_2 = b$ and $h=(b-a)/2$. In this case we have three weights $w_0, w_1, w_2$ given as\n",
        "\n",
        "$$\n",
        "w_0 = \\int_{x_0}^{x_2} L_0(x) dx =\n",
        "\\int_{x_0}^{x_2} \\frac{(x - x_1)(x - x_2)}{(x_0 - x_1)(x_0 - x_2)} dx\n",
        "= \\frac{1}{2 h^2} \\int_{x_0}^{x_2} (x - x_1)(x - x_2) dx = \\frac{h}{3}\n",
        "$$\n",
        "\n",
        "$$\n",
        "w_1 = \\int_{x_0}^{x_2} L_1(x) dx =\n",
        "\\int_{x_0}^{x_2} \\frac{(x - x_0)(x - x_2)}{(x_1 - x_0)(x_1 - x_2)} dx\n",
        "= \\frac{- 1}{h^2} \\int_{x_0}^{x_2} (x - x_0)(x - x_2) dx = \\frac{4 h}{3}\n",
        "$$\n",
        "\n",
        "Similarly one can evaluate $w_2 = \\frac{h}{3}$. Thus\n",
        "$$\n",
        "\\int_a^b f(x) dx \\approx \\frac{h}{3} \\left( f_0 + 4 f_1 + f_2 \\right)\n",
        "$$"
      ],
      "metadata": {
        "id": "s0349BcUumD9"
      }
    },
    {
      "cell_type": "code",
      "source": [
        "def integrate_simp1(func,a,b,n):\n",
        "  h = (b-a)/n\n",
        "  tmp = func(a) + func(b)\n",
        "  for i in range(1,n,2):\n",
        "    tmp += 4*func(a+i*h)\n",
        "  for i in range(2,n-1,2):\n",
        "    tmp += 2*func(a+i*h)\n",
        "  result = h*tmp/3\n",
        "  return result\n",
        "\n",
        "def integrand(x):\n",
        "  return x**2\n",
        "\n",
        "low_lim = 0\n",
        "upp_lim = 2\n",
        "n = 10\n",
        "\n",
        "result = integrate_simp1(integrand,low_lim, upp_lim, n)\n",
        "\n",
        "print(result)"
      ],
      "metadata": {
        "id": "rAcMGb5hAnWV",
        "colab": {
          "base_uri": "https://localhost:8080/"
        },
        "outputId": "63bd944c-0694-48ae-8d49-927f3874b1be"
      },
      "execution_count": null,
      "outputs": [
        {
          "output_type": "stream",
          "name": "stdout",
          "text": [
            "2.666666666666668\n"
          ]
        }
      ]
    },
    {
      "cell_type": "markdown",
      "source": [
        "## **Integration using inbuilt function (quad)**"
      ],
      "metadata": {
        "id": "76dxNa2DeskF"
      }
    },
    {
      "cell_type": "markdown",
      "source": [
        "### Square wave"
      ],
      "metadata": {
        "id": "zX0j-1qX9ljy"
      }
    },
    {
      "cell_type": "code",
      "source": [
        "import numpy as np\n",
        "import matplotlib.pyplot as plt\n",
        "from scipy.integrate import quad\n",
        "from math import *\n",
        "\n",
        "def sqre(x):\n",
        "  if x < 0.0:\n",
        "    return -1\n",
        "  elif 0.0 <= x:\n",
        "    return 1\n",
        "  else:\n",
        "    return 0\n",
        "\n",
        "def fcos(x):\n",
        "  return sqre(x)*cos(i*x)\n",
        "\n",
        "def fsin(x):\n",
        "  return sqre(x)*sin(i*x)\n",
        "\n",
        "i=0\n",
        "a0=quad(fcos,-np.pi,np.pi)[0]/(2*np.pi)\n",
        "\n",
        "n=40\n",
        "an,bn=[],[]\n",
        "for i in range(1,n):\n",
        "  a = quad(fcos,-np.pi,np.pi)[0]/(np.pi)\n",
        "  b = quad(fsin,-np.pi,np.pi)[0]/(np.pi)\n",
        "  an.append(a)\n",
        "  bn.append(b)\n",
        "\n",
        "xx=np.arange(-np.pi,np.pi,0.01)\n",
        "\n",
        "y_recon=[]\n",
        "for x in xx:\n",
        "  sum=a0\n",
        "  for i in range(1,n):\n",
        "    sum += an[i-1]*cos(i*x) + bn[i-1]*sin(i*x)\n",
        "  y_recon.append(sum)\n",
        "\n",
        "y=[]\n",
        "for i in xx:\n",
        "  y.append(sqre(i))\n",
        "\n",
        "plt.plot(xx,y,label='Signal' )\n",
        "plt.plot(xx,y_recon,label=\"Recon\")\n",
        "plt.legend()\n",
        "plt.show()\n",
        "\n",
        "\n"
      ],
      "metadata": {
        "id": "Fc5LaA1weqDs",
        "outputId": "4691c693-5631-4301-8f5a-06275ccbf43a",
        "colab": {
          "base_uri": "https://localhost:8080/",
          "height": 430
        }
      },
      "execution_count": null,
      "outputs": [
        {
          "output_type": "display_data",
          "data": {
            "text/plain": [
              "<Figure size 640x480 with 1 Axes>"
            ],
            "image/png": "[encoded data removed]"
          },
          "metadata": {}
        }
      ]
    },
    {
      "cell_type": "markdown",
      "source": [
        "### **Legendre Polynomials orthogonality**\n",
        "\n",
        "$$ \\int_{-1}^1 P_n(x) P_m(x) = \\frac{2}{2n + 1} \\delta_{mn} $$"
      ],
      "metadata": {
        "id": "5u6osAEN92VB"
      }
    },
    {
      "cell_type": "code",
      "source": [
        "import numpy as np\n",
        "from scipy.special import legendre\n",
        "from scipy.integrate import quad\n",
        "\n",
        "def di_legendre(m,n):\n",
        "  return legendre(m)*legendre(n)\n",
        "\n",
        "m,n=1,2\n",
        "res=quad(di_legendre(m,n),-1,1)[0]\n",
        "print(res)"
      ],
      "metadata": {
        "id": "fvTMgaKK-AJr",
        "outputId": "dd8bacfc-4cbe-4f0c-8374-f5e8a0363edf",
        "colab": {
          "base_uri": "https://localhost:8080/"
        }
      },
      "execution_count": 6,
      "outputs": [
        {
          "output_type": "stream",
          "name": "stdout",
          "text": [
            "0.0\n"
          ]
        }
      ]
    }
  ]
}