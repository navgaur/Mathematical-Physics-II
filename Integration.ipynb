{
  "nbformat": 4,
  "nbformat_minor": 0,
  "metadata": {
    "colab": {
      "provenance": [],
      "authorship_tag": "ABX9TyNTUUVfovAOlJ+SRlb5mY9B",
      "include_colab_link": true
    },
    "kernelspec": {
      "name": "python3",
      "display_name": "Python 3"
    },
    "language_info": {
      "name": "python"
    }
  },
  "cells": [
    {
      "cell_type": "markdown",
      "metadata": {
        "id": "view-in-github",
        "colab_type": "text"
      },
      "source": [
        "<a href=\"https://colab.research.google.com/github/navgaur/Mathematical-Physics-II/blob/test1/Integration.ipynb\" target=\"_parent\"><img src=\"https://colab.research.google.com/assets/colab-badge.svg\" alt=\"Open In Colab\"/></a>"
      ]
    },
    {
      "cell_type": "markdown",
      "source": [
        "# **Unit - 5**\n",
        "# **Numerical Integration**\n",
        "\n",
        "**Newton Cotes Integration methods (Trapezoidal and Simpson rules) for definite integrals**\n",
        "\n",
        "$$ \\int_a^b f(x) dx $$\n",
        "\n",
        "\n",
        "---"
      ],
      "metadata": {
        "id": "0VXh2cvyAW6L"
      }
    },
    {
      "cell_type": "markdown",
      "source": [
        "Divide the interval $[a,b]$ into n-subintervals and have $(n+1)$ points\n",
        "$$ x_i = a + j h, ~~ h = \\frac{(b - a)}{n}, ~~ i = 0,1,...,n$$\n",
        "\n",
        "For the above mentioned discreate datapoints $(x_i,y_i)$ ($y_i = f(x_i)$) one can find out Lagrange interpolating polynomial of order $n$:\n",
        "$$\n",
        "g_n(x) = \\sum_{k=0}^n L_k(x) f(x_k)\n",
        "$$\n",
        "The above interpolating polynomial ($g_n(x)$) is a good approximation of the original function $f(x)$ i.e.\n",
        "$$ g_n(x) \\approx f(x)$$\n",
        "\n",
        "So the definite integration becomes:\n",
        "$$\n",
        "\\int_a^b f(x) dx \\approx \\int_a^b g_n(x) dx = \\sum_{k=0}^n f(x_k) \\int_a^b L_k (x) dx = \\sum_a^b f(x_k) w_k\n",
        "$$\n",
        "\n",
        "Above formula is called **Newton-Cotes formula** of order $n$ and now one needs to evaluate the weights ($w_k$).\n",
        "$$ w_k = \\int_a^b L_k (x) dx, ~~ k = 0,1,..n$$"
      ],
      "metadata": {
        "id": "OygpQq6QR70i"
      }
    },
    {
      "cell_type": "code",
      "source": [],
      "metadata": {
        "id": "rAcMGb5hAnWV"
      },
      "execution_count": null,
      "outputs": []
    }
  ]
}