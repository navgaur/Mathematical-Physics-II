{
  "nbformat": 4,
  "nbformat_minor": 0,
  "metadata": {
    "colab": {
      "provenance": [],
      "authorship_tag": "ABX9TyOVee4X3ACzGdcJbdnSAfyK",
      "include_colab_link": true
    },
    "kernelspec": {
      "name": "python3",
      "display_name": "Python 3"
    },
    "language_info": {
      "name": "python"
    }
  },
  "cells": [
    {
      "cell_type": "markdown",
      "metadata": {
        "id": "view-in-github",
        "colab_type": "text"
      },
      "source": [
        "<a href=\"https://colab.research.google.com/github/navgaur/Mathematical-Physics-II/blob/test1/Integration.ipynb\" target=\"_parent\"><img src=\"https://colab.research.google.com/assets/colab-badge.svg\" alt=\"Open In Colab\"/></a>"
      ]
    },
    {
      "cell_type": "markdown",
      "source": [
        "# **Unit - 5**\n",
        "# **Numerical Integration**\n",
        "\n",
        "Newton Cotes Integration methods (Trapezoidal and Simpson rules) for definite integrals,\n",
        "\n",
        "---"
      ],
      "metadata": {
        "id": "0VXh2cvyAW6L"
      }
    },
    {
      "cell_type": "code",
      "source": [],
      "metadata": {
        "id": "rAcMGb5hAnWV"
      },
      "execution_count": null,
      "outputs": []
    }
  ]
}